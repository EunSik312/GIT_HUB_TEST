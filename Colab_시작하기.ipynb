{
  "cells": [
    {
      "cell_type": "markdown",
      "metadata": {
        "id": "view-in-github",
        "colab_type": "text"
      },
      "source": [
        "<a href=\"https://colab.research.google.com/github/EunSik312/GIT_HUB_TEST/blob/main/Colab_%EC%8B%9C%EC%9E%91%ED%95%98%EA%B8%B0.ipynb\" target=\"_parent\"><img src=\"https://colab.research.google.com/assets/colab-badge.svg\" alt=\"Open In Colab\"/></a>"
      ]
    },
    {
      "cell_type": "markdown",
      "source": [
        "코랩 테스트"
      ],
      "metadata": {
        "id": "Jnb15PYSeHOa"
      }
    },
    {
      "cell_type": "code",
      "source": [
        "print(\"hello, world\")"
      ],
      "metadata": {
        "colab": {
          "base_uri": "https://localhost:8080/"
        },
        "id": "4lHiM64UeJpz",
        "outputId": "767579bd-a61d-4a04-e564-8af538af93fb"
      },
      "execution_count": 2,
      "outputs": [
        {
          "output_type": "stream",
          "name": "stdout",
          "text": [
            "hello, world\n"
          ]
        }
      ]
    },
    {
      "cell_type": "code",
      "source": [
        "x = 5\n",
        "y = \"john\"\n",
        "print(x)\n",
        "print(y)\n",
        "\n",
        "#이건 주석\n",
        "\n",
        "#알아서 변수 지정하거나\n",
        "x = 4       # x is of type int\n",
        "x = \"Sally\" # x is now of type str\n",
        "print(x)\n",
        "\n",
        "#변수 자료형을 지정하던가\n",
        "x = str(3)    # x will be '3'\n",
        "y = int(3)    # y will be 3\n",
        "z = float(3)  # z will be 3.0\n",
        "#변수 이름\n",
        "myvar = \"john\"\n",
        "\n",
        "# 이름에 - 사용 불가능\n",
        "\n",
        "#+ 연산자 이용 변수를 연속적으로 출력\n",
        "x = \"python\"\n",
        "y = \"is\"\n",
        "z = \"awesome\"\n",
        "print(x + y + z)\n",
        "\n",
        "x = 5\n",
        "y = 10\n",
        "print(x + y)\n",
        "\n"
      ],
      "metadata": {
        "colab": {
          "base_uri": "https://localhost:8080/"
        },
        "id": "WUoJUUrxfWPT",
        "outputId": "c81cd064-812e-494d-eaa9-b7562277b601"
      },
      "execution_count": 6,
      "outputs": [
        {
          "output_type": "stream",
          "name": "stdout",
          "text": [
            "5\n",
            "john\n",
            "Sally\n",
            "pythonisawesome\n",
            "15\n"
          ]
        }
      ]
    },
    {
      "cell_type": "code",
      "source": [
        "#전역변수\n",
        "#함수 내에서 같은 이름의 변수를 생성하면\n",
        "#해당 변수는 지역 변수가 되어 함수 내에서만 사용할 수 있습니다.\n",
        "#같은 이름의 전역 변수는 원래 값을 그대로 유지하며 전역 변수로 사용됩니다.\n",
        "\n",
        "x = \"awesome\"\n",
        "\n",
        "def myfunc():\n",
        "  print(\"python is \" + x)\n",
        "\n",
        "\n",
        "myfunc()"
      ],
      "metadata": {
        "colab": {
          "base_uri": "https://localhost:8080/"
        },
        "id": "WU_vZb18lctj",
        "outputId": "908dd40f-0e2b-402b-e595-5f7d708c593e"
      },
      "execution_count": 9,
      "outputs": [
        {
          "output_type": "stream",
          "name": "stdout",
          "text": [
            "python is awesome\n"
          ]
        }
      ]
    },
    {
      "cell_type": "code",
      "source": [
        "#파이썬은 변수를 선언하는 명령이 없음\n",
        "#자료형을 지정하려면 캐스팅을 사용하면 됨\n",
        "x = str(\"apple\")\n",
        "\n",
        "#텍스트 유형:\tstr\n",
        "#숫자형 유형:\tint, float, complex\n",
        "#시퀀스 유형:\tlist, tuple, range\n",
        "#매핑 유형:\tdict\n",
        "#세트 유형:\tset,frozenset\n",
        "#부울 유형:\tbool\n",
        "#이진 유형:\tbytes, bytearray, memoryview\n",
        "#없음 유형:\tNoneType\n"
      ],
      "metadata": {
        "id": "35xem1wmmvWk"
      },
      "execution_count": null,
      "outputs": []
    },
    {
      "cell_type": "code",
      "source": [
        "#문자열\n",
        "print(\"Hello\")\n",
        "print('Hello')\n",
        "#둘 다 가능\n",
        "\n",
        "#인용문 안에 인용문\n",
        "print(\"It's alright\")\n",
        "print(\"He is called 'Johnny'\")\n",
        "print('He is called \"Johnny\"')\n",
        "#Hello\n",
        "#Hello\n",
        "#It's alright\n",
        "#He is called 'Johnny'\n",
        "#He is called \"Johnny\"\n",
        "#실행결과\n",
        "\n",
        "#문자열할당\n",
        "a = \"Hello\"\n",
        "print(a)\n",
        "\n",
        "#다중 문자열(세 개의 따옴표를 사용하여 여러 줄로 된 문자열을 변수에 넣을 수 있음)\n",
        "a = \"\"\"Lorem ipsum dolor sit amet,\n",
        "consectetur adipiscing elit,\n",
        "sed do eiusmod tempor incididunt\n",
        "ut labore et dolore magna aliqua.\"\"\"\n",
        "print(a)"
      ],
      "metadata": {
        "colab": {
          "base_uri": "https://localhost:8080/"
        },
        "id": "pr_YQl12oCSF",
        "outputId": "b4815bfc-0eeb-486f-d841-7788aa162f1c"
      },
      "execution_count": 11,
      "outputs": [
        {
          "output_type": "stream",
          "name": "stdout",
          "text": [
            "Hello\n",
            "Hello\n",
            "It's alright\n",
            "He is called 'Johnny'\n",
            "He is called \"Johnny\"\n",
            "Hello\n",
            "Lorem ipsum dolor sit amet,\n",
            "consectetur adipiscing elit,\n",
            "sed do eiusmod tempor incididunt\n",
            "ut labore et dolore magna aliqua.\n"
          ]
        }
      ]
    },
    {
      "cell_type": "code",
      "source": [
        "#슬라이싱\n"
      ],
      "metadata": {
        "id": "6IAeynQtpCcz"
      },
      "execution_count": null,
      "outputs": []
    }
  ],
  "metadata": {
    "colab": {
      "name": "Colab 시작하기",
      "provenance": [],
      "gpuType": "T4",
      "include_colab_link": true
    },
    "kernelspec": {
      "display_name": "Python 3",
      "name": "python3"
    },
    "accelerator": "GPU"
  },
  "nbformat": 4,
  "nbformat_minor": 0
}